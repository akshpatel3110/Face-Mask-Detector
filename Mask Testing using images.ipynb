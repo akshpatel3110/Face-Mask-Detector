{
 "cells": [
  {
   "cell_type": "code",
   "execution_count": 1,
   "id": "3bb25ef7",
   "metadata": {},
   "outputs": [],
   "source": [
    "from tensorflow.keras.applications.mobilenet_v2 import preprocess_input\n",
    "from tensorflow.keras.preprocessing.image import img_to_array\n",
    "from tensorflow.keras.models import load_model\n",
    "import numpy as np\n",
    "import cv2\n",
    "import os\n",
    "import imutils"
   ]
  },
  {
   "cell_type": "code",
   "execution_count": 2,
   "id": "f1db8f64",
   "metadata": {},
   "outputs": [],
   "source": [
    "prototxtPath=os.path.sep.join([r'C:\\Yash\\College\\SEM 6\\SDP\\Project 3.0','deploy.prototxt'])\n",
    "weightsPath=os.path.sep.join([r'C:\\Yash\\College\\SEM 6\\SDP\\Project 3.0','res10_300x300_ssd_iter_140000.caffemodel'])"
   ]
  },
  {
   "cell_type": "code",
   "execution_count": 3,
   "id": "f1f0dc53",
   "metadata": {},
   "outputs": [
    {
     "data": {
      "text/plain": [
       "'C:\\\\Yash\\\\College\\\\SEM 6\\\\SDP\\\\Project 3.0\\\\deploy.prototxt'"
      ]
     },
     "execution_count": 3,
     "metadata": {},
     "output_type": "execute_result"
    }
   ],
   "source": [
    "prototxtPath"
   ]
  },
  {
   "cell_type": "code",
   "execution_count": 4,
   "id": "09d89dad",
   "metadata": {},
   "outputs": [],
   "source": [
    "net=cv2.dnn.readNet(prototxtPath,weightsPath)"
   ]
  },
  {
   "cell_type": "code",
   "execution_count": 5,
   "id": "c9be17ee",
   "metadata": {},
   "outputs": [],
   "source": [
    "model=load_model(r'C:\\Yash\\College\\SEM 6\\SDP\\Project 3.0\\mobilenet_v2_2.model')"
   ]
  },
  {
   "cell_type": "code",
   "execution_count": 16,
   "id": "1b602cab",
   "metadata": {},
   "outputs": [],
   "source": [
    "image=cv2.imread(r\"C:\\Yash\\College\\SEM 6\\SDP\\Project 3.0\\GettyImages_1198631333.0.jpg\",1)"
   ]
  },
  {
   "cell_type": "code",
   "execution_count": 17,
   "id": "3d7e6f12",
   "metadata": {},
   "outputs": [],
   "source": [
    "(h,w)=image.shape[:2]"
   ]
  },
  {
   "cell_type": "code",
   "execution_count": 18,
   "id": "ce081d4c",
   "metadata": {},
   "outputs": [
    {
     "data": {
      "text/plain": [
       "(800, 1200)"
      ]
     },
     "execution_count": 18,
     "metadata": {},
     "output_type": "execute_result"
    }
   ],
   "source": [
    "(h,w)"
   ]
  },
  {
   "cell_type": "code",
   "execution_count": 19,
   "id": "92ff35ae",
   "metadata": {},
   "outputs": [],
   "source": [
    "blob=cv2.dnn.blobFromImage(image,1.0,(300,300),(104.0,177.0,123.0))"
   ]
  },
  {
   "cell_type": "code",
   "execution_count": 20,
   "id": "a10856ee",
   "metadata": {},
   "outputs": [
    {
     "data": {
      "text/plain": [
       "array([[[[140., 127., 134., ...,  39.,  43.,  45.],\n",
       "         [101., 133., 138., ...,  32.,  35.,  35.],\n",
       "         [137.,  38.,  54., ...,  46.,  47.,  47.],\n",
       "         ...,\n",
       "         [-60., -63., -65., ...,  -8.,   2.,  13.],\n",
       "         [-64., -56., -67., ...,  -7., -14.,  32.],\n",
       "         [-54., -58., -77., ...,  -6., -16.,  12.]],\n",
       "\n",
       "        [[ 63.,  47.,  54., ...,  -4.,  -1.,  -1.],\n",
       "         [ 17.,  49.,  54., ...,   2.,   3.,   1.],\n",
       "         [ 48., -51., -34., ...,   1.,  -1.,  -2.],\n",
       "         ...,\n",
       "         [ -8., -38., -12., ..., -99., -76., -68.],\n",
       "         [-21., -27.,  -4., ..., -94., -91., -51.],\n",
       "         [-39.,  -9.,  11., ..., -90., -93., -73.]],\n",
       "\n",
       "        [[108.,  92.,  99., ...,  51.,  54.,  54.],\n",
       "         [ 63.,  94., 100., ...,  58.,  59.,  58.],\n",
       "         [ 95.,  -4.,  13., ...,  60.,  59.,  58.],\n",
       "         ...,\n",
       "         [ 41.,  14.,  32., ..., -34., -21., -16.],\n",
       "         [ 25.,  22.,  40., ..., -31., -36.,   1.],\n",
       "         [ 12.,  37.,  53., ..., -27., -37., -21.]]]], dtype=float32)"
      ]
     },
     "execution_count": 20,
     "metadata": {},
     "output_type": "execute_result"
    }
   ],
   "source": [
    "blob"
   ]
  },
  {
   "cell_type": "code",
   "execution_count": 21,
   "id": "a9eea0c1",
   "metadata": {},
   "outputs": [
    {
     "data": {
      "text/plain": [
       "(1, 3, 300, 300)"
      ]
     },
     "execution_count": 21,
     "metadata": {},
     "output_type": "execute_result"
    }
   ],
   "source": [
    "blob.shape"
   ]
  },
  {
   "cell_type": "code",
   "execution_count": 22,
   "id": "ac6911d3",
   "metadata": {},
   "outputs": [],
   "source": [
    "net.setInput(blob)\n",
    "detections=net.forward()"
   ]
  },
  {
   "cell_type": "code",
   "execution_count": 23,
   "id": "c0f44594",
   "metadata": {},
   "outputs": [
    {
     "data": {
      "text/plain": [
       "array([[[[0.        , 1.        , 0.46341425, ..., 0.19970019,\n",
       "          0.12055409, 0.3057317 ],\n",
       "         [0.        , 1.        , 0.14459448, ..., 0.20976831,\n",
       "          0.9071104 , 0.30240732],\n",
       "         [0.        , 1.        , 0.13943075, ..., 0.2049298 ,\n",
       "          0.67213815, 0.3031043 ],\n",
       "         ...,\n",
       "         [0.        , 1.        , 0.11257168, ..., 0.25742453,\n",
       "          0.8292086 , 0.28682476],\n",
       "         [0.        , 1.        , 0.1125468 , ..., 0.3289857 ,\n",
       "          0.38267565, 0.4170944 ],\n",
       "         [0.        , 1.        , 0.1124928 , ..., 0.2345663 ,\n",
       "          0.55743015, 0.2670212 ]]]], dtype=float32)"
      ]
     },
     "execution_count": 23,
     "metadata": {},
     "output_type": "execute_result"
    }
   ],
   "source": [
    "detections"
   ]
  },
  {
   "cell_type": "code",
   "execution_count": 24,
   "id": "1dac9ac6",
   "metadata": {},
   "outputs": [],
   "source": [
    "#loop over the detections\n",
    "for i in range(0,detections.shape[2]):\n",
    "    confidence=detections[0,0,i,2]\n",
    "    \n",
    "    \n",
    "    if confidence>0.5:\n",
    "        #we need the X,Y coordinates\n",
    "        box=detections[0,0,i,3:7]*np.array([w,h,w,h])\n",
    "        (startX,startY,endX,endY)=box.astype('int')\n",
    "        \n",
    "        #ensure the bounding boxes fall within the dimensions of the frame\n",
    "        (startX,startY)=(max(0,startX),max(0,startY))\n",
    "        (endX,endY)=(min(w-1,endX), min(h-1,endY))\n",
    "        \n",
    "        \n",
    "        #extract the face ROI, convert it from BGR to RGB channel, resize it to 224,224 and preprocess it\n",
    "        face=image[startY:endY, startX:endX]\n",
    "        face=cv2.cvtColor(face,cv2.COLOR_BGR2RGB)\n",
    "        face=cv2.resize(face,(224,224))\n",
    "        face=img_to_array(face)\n",
    "        face=preprocess_input(face)\n",
    "        face=np.expand_dims(face,axis=0)\n",
    "        \n",
    "        (mask,withoutMask)=model.predict(face)[0]\n",
    "        \n",
    "        #determine the class label and color we will use to draw the bounding box and text\n",
    "        label='Mask' if mask>withoutMask else 'No Mask'\n",
    "        color=(0,255,0) if label=='Mask' else (0,0,255)\n",
    "        \n",
    "        #display the label and bounding boxes\n",
    "        cv2.putText(image,label,(startX,startY-10),cv2.FONT_HERSHEY_SIMPLEX,1,color,3)\n",
    "        cv2.rectangle(image,(startX,startY),(endX,endY),color,2)\n",
    "        \n",
    "\n"
   ]
  },
  {
   "cell_type": "code",
   "execution_count": null,
   "id": "173896b0",
   "metadata": {},
   "outputs": [],
   "source": [
    "image=imutils.resize(image,width=600) \n",
    "cv2.imshow(\"OutPut\",image)\n",
    "cv2.waitKey(0)\n",
    "cv2.destroyAllWindows()"
   ]
  },
  {
   "cell_type": "code",
   "execution_count": null,
   "id": "b1b9001d",
   "metadata": {},
   "outputs": [],
   "source": []
  }
 ],
 "metadata": {
  "kernelspec": {
   "display_name": "Python 3 (ipykernel)",
   "language": "python",
   "name": "python3"
  },
  "language_info": {
   "codemirror_mode": {
    "name": "ipython",
    "version": 3
   },
   "file_extension": ".py",
   "mimetype": "text/x-python",
   "name": "python",
   "nbconvert_exporter": "python",
   "pygments_lexer": "ipython3",
   "version": "3.9.7"
  }
 },
 "nbformat": 4,
 "nbformat_minor": 5
}
